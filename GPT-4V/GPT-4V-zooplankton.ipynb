{
 "cells": [
  {
   "cell_type": "code",
   "execution_count": null,
   "id": "d0d1923b",
   "metadata": {},
   "outputs": [],
   "source": [
    "import os\n",
    "from openai import AzureOpenAI\n",
    "    \n",
    "client = AzureOpenAI(\n",
    "    api_key=os.getenv(\"AZURE_OPENAI_API_KEY\"),  \n",
    "    api_version=\"2024-02-01\",\n",
    "    azure_endpoint = os.getenv(\"AZURE_OPENAI_ENDPOINT\")\n",
    "    )    \n"
   ]
  },
  {
   "cell_type": "code",
   "execution_count": null,
   "id": "725ddf38",
   "metadata": {},
   "outputs": [],
   "source": [
    "import cv2\n",
    "from PIL import Image\n",
    "import numpy as np\n",
    "from tqdm import tqdm\n",
    "import base64\n",
    "def encode_image(image_path):\n",
    "  with open(image_path, \"rb\") as image_file:\n",
    "    return base64.b64encode(image_file.read()).decode('utf-8')"
   ]
  },
  {
   "cell_type": "code",
   "execution_count": null,
   "id": "f205f20a",
   "metadata": {},
   "outputs": [],
   "source": [
    "#The original image is in tif format, we need to transfer it to jpg for GPT-4V to understand\n",
    "TIF_PATH = \"Replace with your path\"\n",
    "SAVE_PATH = \"The path to save jpg from tif\"\n",
    "im_folder = os.listdir(TIF_PATH)\n",
    "for i in im_folder:\n",
    "    temp_path = os.path.join(TIF_PATH,i)\n",
    "    im_path = os.listdir(temp_path)\n",
    "    count = 0\n",
    "    for j in tqdm(im_path):\n",
    "        if j == \"Thumbs.db\": continue\n",
    "        count += 1\n",
    "        name = j.split(\"_\")[0] + \"_\" + str(count) + \".jpg\"\n",
    "        image = Image.open(os.path.join(temp_path,j))\n",
    "        jpg_image = cv2.cvtColor(np.array(image), cv2.COLOR_RGB2BGR)\n",
    "        cv2.imwrite(SAVE_PATH + name, jpg_image)        "
   ]
  },
  {
   "cell_type": "code",
   "execution_count": null,
   "id": "dbd94e8f",
   "metadata": {},
   "outputs": [],
   "source": [
    "categories={\n",
    "    0: \"chaetognath\",\n",
    "    1: \"larval fish\",\n",
    "    2: \"Hydromedusa\",\n",
    "    3: \"lobate ctenophore\",\n",
    "    4: \"Pleurobrachia\",\n",
    "    5: \"shrimp\",\n",
    "    6: \"Siphonophore\",\n",
    "    7: \"stomatopod larva\",\n",
    "    8: \"Unknown\",\n",
    "    9: \"Thaliac\",\n",
    "    10:\"ctenophore\"\n",
    "}\n",
    "possible_cls = \"\"\n",
    "for i in categories.keys():\n",
    "    possible_cls += categories[i] + \",\"\n",
    "print(possible_cls)"
   ]
  },
  {
   "cell_type": "code",
   "execution_count": null,
   "id": "078aac79",
   "metadata": {},
   "outputs": [],
   "source": [
    "Result = []\n",
    "IMAGE_PATH = \"Your own path\"\n",
    "im_file = os.listdir(IMAGE_PATH)\n",
    "for i in tqdm(im_file):\n",
    "    im_path = os.path.join(IMAGE_PATH,i)\n",
    "    image = encode_image(im_path)\n",
    "    try:\n",
    "        response = client.chat.completions.create(\n",
    "                    model =\"GPT-4V\",\n",
    "                messages=[\n",
    "                    {\n",
    "                    \"role\": \"user\",\n",
    "                    \"content\": [\n",
    "                        {\"type\": \"text\", \"text\": \"You are a Marine Biologist. I will send you an image that contains zooplanktons. The possible classes are:\" + possible_cls + \" Please give me the most probable name shown by the given image in the following format: class name. Please just give a short answer and do not provide explanations for your choice.\"},\n",
    "                        {\n",
    "                        \"type\": \"image_url\",\n",
    "                        \"image_url\": {\n",
    "                            \"url\":  f\"data:image/jpeg;base64,{image}\"\n",
    "                        },\n",
    "                        },\n",
    "                    ],\n",
    "                    }\n",
    "                ],\n",
    "                max_tokens=50\n",
    "                )\n",
    "        Result = Result + [[i.split(\"_\")[0],response.choices[0].message.content]]\n",
    "    except Exception:\n",
    "        Result = Result + [[i.split(\"_\")[0],\"error\"]]\n",
    "        continue"
   ]
  }
 ],
 "metadata": {
  "kernelspec": {
   "display_name": "Python (myenv)",
   "language": "python",
   "name": "myenv"
  },
  "language_info": {
   "codemirror_mode": {
    "name": "ipython",
    "version": 3
   },
   "file_extension": ".py",
   "mimetype": "text/x-python",
   "name": "python",
   "nbconvert_exporter": "python",
   "pygments_lexer": "ipython3",
   "version": "3.11.3"
  }
 },
 "nbformat": 4,
 "nbformat_minor": 5
}
