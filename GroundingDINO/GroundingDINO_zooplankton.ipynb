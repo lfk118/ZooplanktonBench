{
 "cells": [
  {
   "cell_type": "code",
   "execution_count": null,
   "id": "598ae97b",
   "metadata": {},
   "outputs": [],
   "source": [
    "import torch\n",
    "import cv2\n",
    "import os\n",
    "import ot\n",
    "import numpy as np\n",
    "from PIL import Image\n",
    "from tqdm import tqdm\n",
    "import supervision as sv\n",
    "import matplotlib.pyplot as plt\n",
    "from groundingdino.util.inference import load_model, load_image, predict, annotate\n",
    "from torchvision.ops import box_convert,nms,box_iou, box_area\n",
    "from mAP_DINO import mAP_result"
   ]
  },
  {
   "cell_type": "code",
   "execution_count": null,
   "id": "4279e88e",
   "metadata": {},
   "outputs": [],
   "source": [
    "#Please adjust the path here based on your own setting\n",
    "HOME = os.getcwd()\n",
    "CONFIG_PATH = os.path.join(HOME, \"GroundingDINO/groundingdino/config/GroundingDINO_SwinT_OGC.py\")\n",
    "WEIGHTS_NAME = \"groundingdino_swint_ogc.pth\"\n",
    "WEIGHTS_PATH = os.path.join(HOME, \"weights\", WEIGHTS_NAME)\n",
    "\n",
    "%cd {HOME}/GroundingDINO\n",
    "model = load_model(CONFIG_PATH, WEIGHTS_PATH)"
   ]
  },
  {
   "cell_type": "code",
   "execution_count": null,
   "id": "e681360a",
   "metadata": {},
   "outputs": [],
   "source": [
    "#Change the setting here to load the images for GroundingDINO\n",
    "Image_path = \"Your own path for labeled images\"\n",
    "Label_path = \"Your own path for labels\"\n",
    "mAP, mAP50_95 = mAP_result(Image_path ,Label_path , model)"
   ]
  }
 ],
 "metadata": {
  "kernelspec": {
   "display_name": "Python (myenv)",
   "language": "python",
   "name": "myenv"
  },
  "language_info": {
   "codemirror_mode": {
    "name": "ipython",
    "version": 3
   },
   "file_extension": ".py",
   "mimetype": "text/x-python",
   "name": "python",
   "nbconvert_exporter": "python",
   "pygments_lexer": "ipython3",
   "version": "3.11.3"
  }
 },
 "nbformat": 4,
 "nbformat_minor": 5
}
