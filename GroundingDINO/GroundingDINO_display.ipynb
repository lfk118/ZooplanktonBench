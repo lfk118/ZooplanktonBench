{
 "cells": [
  {
   "cell_type": "code",
   "execution_count": null,
   "id": "c8ac733b",
   "metadata": {},
   "outputs": [],
   "source": [
    "import torch\n",
    "import cv2\n",
    "import os\n",
    "import ot\n",
    "import numpy as np\n",
    "from PIL import Image\n",
    "import supervision as sv\n",
    "import matplotlib.pyplot as plt\n",
    "from groundingdino.util.inference import load_model, load_image, predict, annotate"
   ]
  },
  {
   "cell_type": "code",
   "execution_count": null,
   "id": "6c4e3cd1",
   "metadata": {},
   "outputs": [],
   "source": [
    "#Please adjust the path here based on your setting.\n",
    "#The config and weights files should be located in the GroundingDINO folder after successful installation.\n",
    "HOME = os.getcwd()\n",
    "CONFIG_PATH = os.path.join(HOME, \"GroundingDINO/groundingdino/config/GroundingDINO_SwinT_OGC.py\")\n",
    "WEIGHTS_NAME = \"groundingdino_swint_ogc.pth\"\n",
    "WEIGHTS_PATH = os.path.join(HOME, \"weights\", WEIGHTS_NAME)\n",
    "\n",
    "%cd {HOME}/GroundingDINO\n",
    "model = load_model(CONFIG_PATH, WEIGHTS_PATH)"
   ]
  },
  {
   "cell_type": "code",
   "execution_count": null,
   "id": "246ea479",
   "metadata": {},
   "outputs": [],
   "source": [
    "#Please adjust the path here based on your setting.\n",
    "IMAGE_PATH = \"Your own path\"\n",
    "\n",
    "TEXT_PROMPT = \"Any prompt you would like to detect\"\n",
    "BOX_TRESHOLD = \"any threshold (should be a number)\"\n",
    "TEXT_TRESHOLD = \"any threshold (should be a number)\"\n",
    "\n",
    "image_source, image = load_image(IMAGE_PATH)\n",
    "\n",
    "boxes, logits, phrases = predict(\n",
    "    model=model,\n",
    "    image=image,\n",
    "    caption=TEXT_PROMPT,\n",
    "    box_threshold=BOX_TRESHOLD,\n",
    "    text_threshold=TEXT_TRESHOLD\n",
    ")\n",
    "\n",
    "annotated_frame = annotate(image_source=image_source, boxes=boxes, logits=logits, phrases=phrases)\n",
    "\n",
    "%matplotlib inline\n",
    "sv.plot_image(annotated_frame, (16, 16))"
   ]
  }
 ],
 "metadata": {
  "kernelspec": {
   "display_name": "Python (myenv)",
   "language": "python",
   "name": "myenv"
  },
  "language_info": {
   "codemirror_mode": {
    "name": "ipython",
    "version": 3
   },
   "file_extension": ".py",
   "mimetype": "text/x-python",
   "name": "python",
   "nbconvert_exporter": "python",
   "pygments_lexer": "ipython3",
   "version": "3.11.3"
  }
 },
 "nbformat": 4,
 "nbformat_minor": 5
}
