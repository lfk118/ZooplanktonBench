{
 "cells": [
  {
   "cell_type": "code",
   "execution_count": null,
   "id": "c8dec20d",
   "metadata": {},
   "outputs": [],
   "source": [
    "from ultralytics import YOLO"
   ]
  },
  {
   "cell_type": "markdown",
   "id": "7297d65c",
   "metadata": {},
   "source": [
    "You can check the config folder for validation settings.\n",
    "\n",
    "Here is an example:  \n",
    "\n",
    "path: \"/data/Marine_picture/\"  \n",
    "train:   \n",
    "    - Marine_yolo_10m_only/images/train\n",
    "val:  \n",
    "    - Marine_yolo_10m_only/images/val  \n",
    "    \n",
    "\\#class\n",
    "names:\n",
    "  0: chaetognath     \n",
    "  1: larval fish    \n",
    "  2: Hydromedusa    \n",
    "  3: lobate ctenophore    \n",
    "  4: Pleurobrachia    \n",
    "  5: shrimp    \n",
    "  6: Siphonophore    \n",
    "  7: stomatopod larva    \n",
    "  8: Unknown   \n",
    "  9: Thaliac   \n",
    "  10: Polychaete   \n",
    "  11: Cumacean   \n",
    "  12: Ctenophore   \n",
    "\n",
    "The path should be adjust based on your own setting."
   ]
  },
  {
   "cell_type": "code",
   "execution_count": null,
   "id": "089d12f1",
   "metadata": {},
   "outputs": [],
   "source": [
    "model = YOLO(\"Your own model\")\n",
    "results = model.val(data = \"config/config_val.yaml\", name = \"val_video\")"
   ]
  }
 ],
 "metadata": {
  "kernelspec": {
   "display_name": "Python 3 (ipykernel)",
   "language": "python",
   "name": "python3"
  },
  "language_info": {
   "codemirror_mode": {
    "name": "ipython",
    "version": 3
   },
   "file_extension": ".py",
   "mimetype": "text/x-python",
   "name": "python",
   "nbconvert_exporter": "python",
   "pygments_lexer": "ipython3",
   "version": "3.11.3"
  }
 },
 "nbformat": 4,
 "nbformat_minor": 5
}
