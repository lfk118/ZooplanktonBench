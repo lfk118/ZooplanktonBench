{
 "cells": [
  {
   "cell_type": "code",
   "execution_count": 1,
   "id": "a8fe7959",
   "metadata": {},
   "outputs": [],
   "source": [
    "from ultralytics import YOLO\n",
    "\n",
    "model = YOLO(\"Your own YOLO model\")\n",
    "results = model.track(\"Your own video\", tracker = \"bytetrack.yaml\", save = True, iou = 0.2)"
   ]
  },
  {
   "cell_type": "code",
   "execution_count": 95,
   "id": "2e68373b",
   "metadata": {},
   "outputs": [],
   "source": [
    "#Keep th\n",
    "import numpy as np\n",
    "import cv2\n",
    "frame = 0\n",
    "for i in results:\n",
    "    frame += 1\n",
    "    if i.boxes.id != None:\n",
    "        txt = (i.boxes.xywhn).numpy()\n",
    "        l = len(txt)\n",
    "        temp = np.zeros([l,5])\n",
    "        for j in range(l):\n",
    "            temp[j] = np.insert(txt[j],0,0)\n",
    "        np.savetxt(\"/data/Marine_picture/Video/labels/train/B_\" + str(i.boxes.id.numpy()) + \"_\" +str(frame) + \".txt\", temp)\n",
    "        img = i.orig_img\n",
    "        cv2.imwrite(\"/data/Marine_picture/Video/images/train/B_\"+ str(i.boxes.id.numpy()) + \"_\" +str(frame) + \".jpg\", img)\n"
   ]
  }
 ],
 "metadata": {
  "kernelspec": {
   "display_name": "Python 3 (ipykernel)",
   "language": "python",
   "name": "python3"
  },
  "language_info": {
   "codemirror_mode": {
    "name": "ipython",
    "version": 3
   },
   "file_extension": ".py",
   "mimetype": "text/x-python",
   "name": "python",
   "nbconvert_exporter": "python",
   "pygments_lexer": "ipython3",
   "version": "3.11.3"
  }
 },
 "nbformat": 4,
 "nbformat_minor": 5
}
