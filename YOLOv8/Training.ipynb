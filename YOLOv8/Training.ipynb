{
 "cells": [
  {
   "cell_type": "code",
   "execution_count": null,
   "id": "56646266",
   "metadata": {},
   "outputs": [],
   "source": [
    "from ultralytics import YOLO\n",
    "\n",
    "model = YOLO(\"yolov8x.yaml\")  # build a new model from scratch\n"
   ]
  },
  {
   "cell_type": "code",
   "execution_count": null,
   "id": "9eaf3584",
   "metadata": {},
   "outputs": [],
   "source": [
    "results = model.train(data = \"config/config_video.yaml\", epochs = 500, batch = 32, name = \"video_enhance_living_mix\")"
   ]
  },
  {
   "cell_type": "code",
   "execution_count": null,
   "id": "a1ce50fb",
   "metadata": {},
   "outputs": [],
   "source": [
    "results = model.train(data=\"config/config35.yaml\", epochs=500, batch = 64, name = \"train_35_500\")"
   ]
  },
  {
   "cell_type": "code",
   "execution_count": null,
   "id": "55e050d8",
   "metadata": {},
   "outputs": [],
   "source": [
    "results = model.train(data=\"config/config25.yaml\", epochs=500, batch = 64, name = \"train_25_500\")"
   ]
  },
  {
   "cell_type": "code",
   "execution_count": null,
   "id": "e3a8c759",
   "metadata": {},
   "outputs": [],
   "source": [
    "results = model.train(data=\"config/config10.yaml\", epochs=500, batch = 64, name = \"train_10_500\")"
   ]
  }
 ],
 "metadata": {
  "kernelspec": {
   "display_name": "Python 3 (ipykernel)",
   "language": "python",
   "name": "python3"
  },
  "language_info": {
   "codemirror_mode": {
    "name": "ipython",
    "version": 3
   },
   "file_extension": ".py",
   "mimetype": "text/x-python",
   "name": "python",
   "nbconvert_exporter": "python",
   "pygments_lexer": "ipython3",
   "version": "3.11.3"
  }
 },
 "nbformat": 4,
 "nbformat_minor": 5
}
